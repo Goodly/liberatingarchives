{
 "cells": [
  {
   "cell_type": "markdown",
   "metadata": {},
   "source": [
    "## Conclusion: A Beginning\n",
    "\n",
    "These notebooks represent a beginning in at least two senses. First, they constitute only an initial draft. Just as we expect you will want to evaluate your work and iteratively improve it, we look forward to learning from you and others about how we can improve these notebooks. Please give us comments and make pull requests suggesting improvements. \n",
    "\n",
    "Second, it has been our goal to empower you and many others to open up the world’s textual data for analysis by researchers and the public. We suspect that your individual efforts will mark the beginning of valuable research projects into your particular archives. But at an even larger scale, we are inspired by the thought that the cumulative efforts of so many of us will catalyze a growing societal reflexivity allowing we humans to better understand ourselves and eventually design better societies. Decades from now, people will look back on your efforts as the beginning of major shift in human understanding and collective behavior.\n",
    "\n",
    "Finally, we hope these notebooks have launched a beginning for you as well. Maybe you didn’t know when you started that you could do so much with computers. Maybe you didn’t know how big an impact you could have on the course of history. Maybe you thought you, and all of us, were doomed to play out the same staid roles fitting neatly into a society none of us really found satisfying. Well, now you know: you are not static, and neither is history. We can learn. We’re more powerful than we thought. And this is just the beginning. "
   ]
  }
 ],
 "metadata": {
  "anaconda-cloud": {},
  "kernelspec": {
   "display_name": "Python 3",
   "language": "python",
   "name": "python3"
  },
  "language_info": {
   "codemirror_mode": {
    "name": "ipython",
    "version": 3
   },
   "file_extension": ".py",
   "mimetype": "text/x-python",
   "name": "python",
   "nbconvert_exporter": "python",
   "pygments_lexer": "ipython3",
   "version": "3.7.1"
  }
 },
 "nbformat": 4,
 "nbformat_minor": 1
}
