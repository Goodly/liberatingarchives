{
 "cells": [
  {
   "cell_type": "markdown",
   "metadata": {},
   "source": [
    "## Phase 0: Anticipating Your Research-Ready Database: Start by Wishing\n",
    "\n",
    "Before we gather our documents together and find the reliable meaningful structure within them – or even fully understand what that means – we can already develop a vision about what we want to create through our efforts. Maybe you’re thinking: We want to create a database about these documents that we can share!” That’s a good start. But let’s go deeper and think about what kind of research we want to enable for the people who will use our databases. In particular, what kinds of information will they want to be able to search for? \n",
    "\n",
    "When we looked at the transcripts of Congressional Hearings we were excited about the fact that everything members of Congress said had been recorded. But it was clear that there was no easy way – apart from reading through hundreds of pages of long transcripts – for the public to ask and answer basic questions like: what has my member of Congress said during hearings? Or, what have the Democrats said in a particular committee? These sorts of questions can only be answered quickly and easily once we have identified each separate speech, and linked the transcript of that speech to information about the speaker and her or his political party and electoral district. We also anticipated that people might want to compare what women and men in Congress talk about, or how Representatives from urban districts emphasize topics differently than Representatives from rural districts. So, we began jotting down a “wishlist” of all the variables that researchers and the public might find interesting.\n",
    "\n",
    "### Write down your wishlist!\n",
    "\n",
    "We highly recommend that you start your project in the same way, by compiling a wishlist. First, spend some time reading through your documents. What is really interesting? And what information is important for researchers? These will not always be the same. For instance, the date a document was written is not terribly interesting in and of itself. But researchers might want to look at documents from a certain time period, so it will be very important to record the date information. You may even want to ask a few researchers what they would want to find in your documents. When you are constructing your wishlist, we recommend doing it through the following series of steps: \n",
    "1.\tIdentify and list the “objects” that appear within and across your documents. Here, we mean “object” in a particular way. Objects are the entities you might be studying. In our case, we identified objects like ‘Hearings,’ which take place in another object, ‘Committee.’ And the Hearings contained another object, ‘Speeches.’ ‘Speakers’ were also objects, and so were the ‘Districts’ from which those Speakers came. \n",
    "2.\tIdentify and list the variables that describe each of those objects. All of the objects above can be described with further information, and we call the categories of such information “variables.” The ‘Hearings’ object is described by the variable ‘Date,’ which tells us when the hearing occurred. A ‘Speech’ object could be described with the variable ‘Statement Type,’ which tells us whether the speech was an opening remark, a question, a statement, etc. The ‘Speech’ could also have its own ‘Date’ variable, too. \n",
    "3.\tIterate to refine your list. Review your documents some more. Are you sure there is nothing interesting in them that you may be missing? Are there any objects you could combine into one to avoid duplication? Are there any you should separate for the sake of clarity, or because people may want to use the separate objects as search criteria? Even though ‘Speeches’ occur within ‘Hearings’ we wouldn’t want to combine the two objects because someone may want to search for all the speeches made by her Representative, regardless of the hearings in which they occurred. \n",
    "4.\tIdentify where information about each variable and object will come from. Your set of documents may include letters, emails, policy statements, and/or news articles. Maybe information about all of your objects and variables are described in a single type of document. But more often, you may need to find the various items on your wishlist in different types of documents containing different sorts of information. Or maybe you are wishing for information that is not found in any of your documents. Can it be found elsewhere? \n",
    "\n",
    "Constructing your wishlist upfront is an important exercise. It helps you maintain a focus on, and excitement about, the tool that will empower your end-users to ask interesting and powerful questions. It also prepares you for the steps to come. As you will learn through Phases 1, 2, and 3, spending time carefully and formally wishing, in the manner we have described, allows the rest of the work to unfold much more smoothly. \n"
   ]
  }
 ],
 "metadata": {
  "anaconda-cloud": {},
  "kernelspec": {
   "display_name": "Python 3",
   "language": "python",
   "name": "python3"
  },
  "language_info": {
   "codemirror_mode": {
    "name": "ipython",
    "version": 3
   },
   "file_extension": ".py",
   "mimetype": "text/x-python",
   "name": "python",
   "nbconvert_exporter": "python",
   "pygments_lexer": "ipython3",
   "version": "3.7.1"
  }
 },
 "nbformat": 4,
 "nbformat_minor": 1
}
