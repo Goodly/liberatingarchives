{
 "cells": [
  {
   "cell_type": "markdown",
   "metadata": {
    "collapsed": true
   },
   "source": [
    "## Evaluate and Iterate\n",
    "\n",
    "_Before you can share your work, you have one final step: to do all the steps you've already done at least once more!_\n",
    "\n",
    "You've come a long way and you are probaly eager to jump into some data analysis and/or share your work with the world. But if you're database is flawed, you will only be generating headaches for yourself and others. Even though it takes a special exertion of will, now is the perfect moment to evaluate your database and review all the steps that got you here."
   ]
  },
  {
   "cell_type": "markdown",
   "metadata": {},
   "source": [
    "### Evaluation\n",
    "\n",
    "There is no universal, bulletproof way to check the accuracy of your database content. Below are a few general ideas used during the CapitolQuery projects.\n",
    "\n",
    "1. Spot checks. Do some queries based on an excerpt of your database using your local machine and then apply the same query on the database. Do you get the same results in either case?\n",
    "2. Eyeball important lists. For example, create a list of the most popular surnames in your database. If the parser did not work, it is likely that the erroneous result will rank highly on the list.\n",
    "3. Suspicious variable characteristics. Check if some variables have odd characteristics. For example, generate the number of characters in you speech or a name variable. Very high or very low values could indicate trouble.\n",
    "4. Missing values. For many variables, missing values are permissable. For instance, not all speakers in our database have middle names. However, all of the speakers should have a middle name. Check your database whether variables that cannot have missing values truly have none.\n",
    "\n",
    "\n",
    "\n",
    "### Iteration\n",
    "\n",
    "Your mastery of any skill is based upon repetition. If you cook repeatedly you can become a master chef. If you paint many hundreds of paintings, you can become a master painter. If you write and play many songs, you can become a master guitarist. The process you've just completed is certainly as complex as painting a landscape, writing a song, or cooking a multi-course gourmet meal. And while we won't expect you to be master at it on the first or second try, we do highly recommend that you take a couple of hours to review everything you have done so far. You needn't write all the code again. But if you review all the materials you have learned, you will see how Phase I fed into Phase II. You will rehearse the process by which you brought all of the task elements of Phase II together into a single parsing script. And you will understand how that parser generated all the data you have organized into your database in Phase III. Reviewing all this may not make you a master. But it will at least help you know what the masters do. And it will increase the likelihood that you will move faster with fewer mistakes should you attempt to make another dataset research-ready.\n",
    "\n",
    "As you read through the code you wrote, imagine how the computer will use it. What is your little robot doing? Are there other ways you could get your robot to do the same task or one with equivalent output? Maybe you can find ways that our instructions could be made more efficient or more clear. Try out your ideas. See how your robot responds. \n",
    "\n",
    "Maybe as you walk through your own work again, you will realize that you could have collected more data in Phase I. Maybe you will notice some piece of meaningful structure that eluded you in Phase II. Maybe you will realize that your database could be designed more efficiently in Phase III. See what you see. Not every mistake needs to be corrected. A bit of redundancy in your database won't be fatal. But you mind find signficant errors that can be corrected far easier now that you have a bit more comfort working with the machine.\n",
    "\n",
    "Even if everything was done perfectly the first time, spending a couple hours to review will strengthen the neural connections in your brain related to this work. It will help you better understand others' code when you look at it in the future, and help you explain to colleagues and teammates what it takes to make a data set research-ready.   "
   ]
  }
 ],
 "metadata": {
  "kernelspec": {
   "display_name": "Python 3",
   "language": "python",
   "name": "python3"
  },
  "language_info": {
   "codemirror_mode": {
    "name": "ipython",
    "version": 3
   },
   "file_extension": ".py",
   "mimetype": "text/x-python",
   "name": "python",
   "nbconvert_exporter": "python",
   "pygments_lexer": "ipython3",
   "version": "3.7.1"
  }
 },
 "nbformat": 4,
 "nbformat_minor": 1
}
